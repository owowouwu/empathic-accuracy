{
 "cells": [
  {
   "cell_type": "code",
   "execution_count": null,
   "metadata": {
    "collapsed": true
   },
   "outputs": [],
   "source": [
    "import os\n",
    "import pandas as pd\n",
    "import numpy as np\n",
    "import torch\n",
    "import settings\n",
    "import json\n",
    "import pyro\n",
    "import pyro.contrib.gp as gp\n",
    "import pyro.distributions as dist\n",
    "import matplotlib.pyplot as plt\n",
    "import torch.nn as nn\n",
    "import torch.optim as optim\n",
    "from sentence_transformers import SentenceTransformer\n",
    "from scipy.stats import pearsonr\n",
    "from scipy.spatial import distance\n",
    "from sklearn.model_selection import KFold\n",
    "from modules.nnets import BasicFFNet\n",
    "from sentence_transformers import SentenceTransformer\n",
    "from dotenv import load_dotenv\n",
    "from scipy.stats import pearsonr\n",
    "load_dotenv()\n",
    "os.chdir(os.path.expanduser(os.getenv('PROJECT_WORKING_DIRECTORY')))"
   ]
  },
  {
   "cell_type": "code",
   "execution_count": null,
   "outputs": [],
   "source": [
    "sts_test = pd.read_csv('data/stsbenchmark/test.csv')\n",
    "interview_data =  pd.read_excel('data/full_data.xlsx', sheet_name = 1)"
   ],
   "metadata": {
    "collapsed": false
   }
  },
  {
   "cell_type": "code",
   "execution_count": null,
   "outputs": [],
   "source": [
    "encoder = SentenceTransformer(\"sentence-transformers/xlm-r-distilroberta-base-paraphrase-v1\")\n",
    "\n",
    "def gen_features(encoder,s1,s2):\n",
    "    u = encoder.encode(s1)\n",
    "    v = encoder.encode(s2)\n",
    "    return np.concatenate([u,v, np.abs(u - v)], axis = 1)\n",
    "\n",
    "Xsts = torch.tensor(gen_features(encoder, sts_test['sentence1'].values,\n",
    "                                 sts_test['sentence2'].values\n",
    "                                 ))\n",
    "Xinterview = torch.tensor(gen_features(encoder, interview_data['user_text'].values,\n",
    "                                       interview_data['designer_text'].values\n",
    "                                       ))\n",
    "\n",
    "ysts = torch.tensor(sts_test['score'].values / 5.).float()\n",
    "yinterview = torch.tensor(interview_data['avg_EA'].values / 2.).float()"
   ],
   "metadata": {
    "collapsed": false
   }
  },
  {
   "cell_type": "code",
   "execution_count": null,
   "outputs": [],
   "source": [
    "kernel = gp.kernels.RBF(input_dim=Xsts.shape[1])\n",
    "likelihood = gp.likelihoods.Gaussian()\n",
    "Xu = (Xsts.clone())[np.random.choice(Xsts.shape[0], 30)]\n",
    "vsgp = gp.models.VariationalSparseGP(Xsts, ysts, Xu=Xu, kernel = kernel,\n",
    "                                        likelihood = likelihood, whiten=True)\n",
    "vsgp.load_state_dict(torch.load(\"models/stsb-sparsegp2/best_model.pt\",\n",
    "                      map_location=torch.device('cpu')\n",
    "                      ))\n",
    "\n",
    "ffnet = BasicFFNet(input_dim = Xsts.shape[1], hidden_layers=64, dropout=0)\n",
    "ffnet.load_state_dict(torch.load(\"models/stsb-ffnet/best_model.pt\",\n",
    "                      map_location=torch.device('cpu')))\n",
    "\n",
    "def cosine_sim(encoder,s1,s2):\n",
    "    u = encoder.encode(s1)\n",
    "    v = encoder.encode(s2)\n",
    "    predicted_scores = [1 - distance.cosine(u[i], v[i])\n",
    "                   for i in range(len(s1))]\n",
    "    return predicted_scores"
   ],
   "metadata": {
    "collapsed": false
   }
  },
  {
   "cell_type": "code",
   "execution_count": null,
   "outputs": [],
   "source": [
    "ypred1 = vsgp(Xsts)[0].detach().numpy()\n",
    "ypred2 = ffnet(Xsts).detach().numpy().flatten()\n",
    "ypred3 = cosine_sim(encoder, sts_test['sentence1'].values, sts_test['sentence2'].values)"
   ],
   "metadata": {
    "collapsed": false
   }
  },
  {
   "cell_type": "code",
   "execution_count": null,
   "outputs": [],
   "source": [
    "def evals(true, predicted):\n",
    "    rmse = np.sqrt(np.mean((true - predicted)**2))\n",
    "    pearson = pearsonr(true, predicted)[0]\n",
    "    print(\"Pearson:\", pearson)\n",
    "    print(\"RMSE:\", rmse)\n",
    "    return pearson, rmse\n",
    "\n",
    "evals(ysts.numpy(), ypred1)\n",
    "evals(ysts.numpy(), ypred2)\n",
    "evals(ysts.numpy(), ypred3)"
   ],
   "metadata": {
    "collapsed": false
   }
  },
  {
   "cell_type": "code",
   "execution_count": null,
   "outputs": [],
   "source": [
    "splits = KFold(n_splits=10, shuffle = True, random_state = 123)\n",
    "folds = splits.split(interview_data)"
   ],
   "metadata": {
    "collapsed": false
   }
  },
  {
   "cell_type": "code",
   "execution_count": null,
   "outputs": [],
   "source": [],
   "metadata": {
    "collapsed": false
   }
  },
  {
   "cell_type": "code",
   "execution_count": null,
   "outputs": [],
   "source": [
    "results = []\n",
    "for train, val in folds:\n",
    "    X = Xinterview[val]\n",
    "    y_pred = ffnet(X)\n",
    "    pearson, rmse = evals(yinterview[val].numpy(), y_pred.detach().numpy().flatten())\n",
    "    results.append({'pearson':pearson, 'rmse':rmse})\n",
    "\n",
    "results = pd.DataFrame(results).describe()"
   ],
   "metadata": {
    "collapsed": false
   }
  },
  {
   "cell_type": "code",
   "execution_count": null,
   "outputs": [],
   "source": [
    "results"
   ],
   "metadata": {
    "collapsed": false
   }
  },
  {
   "cell_type": "code",
   "execution_count": null,
   "outputs": [],
   "source": [
    "y_pred"
   ],
   "metadata": {
    "collapsed": false
   }
  },
  {
   "cell_type": "code",
   "execution_count": null,
   "outputs": [],
   "source": [
    "ypred1 = vsgp(Xinterview)[0].detach().numpy()\n",
    "ypred2 = ffnet(Xinterview).detach().numpy().flatten()\n",
    "ypred3 = cosine_sim(encoder, interview_data['user_text'].values, interview_data['designer_text'].values)"
   ],
   "metadata": {
    "collapsed": false
   }
  },
  {
   "cell_type": "code",
   "execution_count": null,
   "outputs": [],
   "source": [
    "def evals(true, predicted):\n",
    "    rmse = np.sqrt(np.mean((true - predicted)**2))\n",
    "    pearson = pearsonr(true, predicted)[0]\n",
    "    print(\"Pearson:\", pearson)\n",
    "    print(\"RMSE:\", rmse)\n",
    "    return pearson, rmse\n",
    "\n",
    "evals(yinterview.numpy(), ypred1)\n",
    "evals(yinterview.numpy(), ypred2)\n",
    "evals(yinterview.numpy(), ypred3)"
   ],
   "metadata": {
    "collapsed": false
   }
  },
  {
   "cell_type": "code",
   "execution_count": null,
   "outputs": [],
   "source": [],
   "metadata": {
    "collapsed": false
   }
  }
 ],
 "metadata": {
  "kernelspec": {
   "display_name": "Python 3",
   "language": "python",
   "name": "python3"
  },
  "language_info": {
   "codemirror_mode": {
    "name": "ipython",
    "version": 2
   },
   "file_extension": ".py",
   "mimetype": "text/x-python",
   "name": "python",
   "nbconvert_exporter": "python",
   "pygments_lexer": "ipython2",
   "version": "2.7.6"
  }
 },
 "nbformat": 4,
 "nbformat_minor": 0
}
