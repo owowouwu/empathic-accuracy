{
 "cells": [
  {
   "cell_type": "code",
   "execution_count": 6,
   "id": "3231bc0b",
   "metadata": {},
   "outputs": [
    {
     "ename": "ModuleNotFoundError",
     "evalue": "No module named 'torch'",
     "output_type": "error",
     "traceback": [
      "\u001B[0;31m---------------------------------------------------------------------------\u001B[0m",
      "\u001B[0;31mModuleNotFoundError\u001B[0m                       Traceback (most recent call last)",
      "\u001B[0;32m/tmp/ipykernel_153954/1597447201.py\u001B[0m in \u001B[0;36m<module>\u001B[0;34m\u001B[0m\n\u001B[1;32m      2\u001B[0m \u001B[0;32mimport\u001B[0m \u001B[0mpandas\u001B[0m \u001B[0;32mas\u001B[0m \u001B[0mpd\u001B[0m\u001B[0;34m\u001B[0m\u001B[0;34m\u001B[0m\u001B[0m\n\u001B[1;32m      3\u001B[0m \u001B[0;32mimport\u001B[0m \u001B[0mnumpy\u001B[0m \u001B[0;32mas\u001B[0m \u001B[0mnp\u001B[0m\u001B[0;34m\u001B[0m\u001B[0;34m\u001B[0m\u001B[0m\n\u001B[0;32m----> 4\u001B[0;31m \u001B[0;32mimport\u001B[0m \u001B[0mtorch\u001B[0m\u001B[0;34m\u001B[0m\u001B[0;34m\u001B[0m\u001B[0m\n\u001B[0m\u001B[1;32m      5\u001B[0m \u001B[0;32mimport\u001B[0m \u001B[0msettings\u001B[0m\u001B[0;34m\u001B[0m\u001B[0;34m\u001B[0m\u001B[0m\n\u001B[1;32m      6\u001B[0m \u001B[0;32mimport\u001B[0m \u001B[0mitertools\u001B[0m\u001B[0;34m\u001B[0m\u001B[0;34m\u001B[0m\u001B[0m\n",
      "\u001B[0;31mModuleNotFoundError\u001B[0m: No module named 'torch'"
     ]
    }
   ],
   "source": [
    "import os\n",
    "import pandas as pd\n",
    "import numpy as np\n",
    "import torch\n",
    "import settings\n",
    "import itertools\n",
    "import hashlib\n",
    "import json\n",
    "import pyro\n",
    "import pyro.contrib.gp as gp\n",
    "import pyro.distributions as dist\n",
    "import torch.nn as nn\n",
    "import torch.optim as optim\n",
    "from sentence_transformers import SentenceTransformer\n",
    "from scipy.stats import pearsonr\n",
    "from scipy.spatial import distance\n",
    "from sklearn.model_selection import KFold\n",
    "from modules.nnets import BasicFFNet\n",
    "\n",
    "os.chdir(settings.PROJECT_WORKING_DIRECTORY)"
   ]
  },
  {
   "cell_type": "code",
   "execution_count": null,
   "id": "0b2e84e7",
   "metadata": {},
   "outputs": [],
   "source": [
    "def encode_sentences(transformer,s1, s2, how = 'concat'):\n",
    "    u = transformer.encode(s1)\n",
    "    v = transformer.encode(s2)\n",
    "    if how == 'concat':\n",
    "        return np.concatenate([u,v], axis = 1)\n",
    "    elif how == 'l1':\n",
    "        return np.abs(u - v)\n",
    "    elif how == 'prod':\n",
    "        return u*v\n",
    "    elif how == 'concatl1':\n",
    "        return np.concatenate([u,v, np.abs(u-v)], axis = 1)\n",
    "\n",
    "def make_sentence_pairs(u,v, how = 'concat'):\n",
    "    if how == 'concat':\n",
    "        return np.concatenate([u,v], axis = 1)\n",
    "    elif how == 'l1':\n",
    "        return np.abs(u - v)\n",
    "    elif how == 'prod':\n",
    "        return u*v\n",
    "    elif how == 'concatl1':\n",
    "        return np.concatenate([u,v, np.abs(u-v)], axis = 1)\n",
    "\n",
    "def predict_scores(designer_embeddings, user_embeddings):\n",
    "    return [1 - distance.cosine(designer_embeddings[i], user_embeddings[i])\n",
    "                   for i in range(user_embeddings.shape[0])]\n",
    "\n",
    "def evals(true, predicted):\n",
    "    rmse = np.sqrt(np.mean((true - predicted)**2))\n",
    "    pearson = pearsonr(true, predicted)[0]\n",
    "    # print(\"Pearson:\", pearson)\n",
    "    # print(\"RMSE:\", rmse)\n",
    "    return pearson, rmse"
   ]
  },
  {
   "cell_type": "code",
   "execution_count": null,
   "id": "380adc64",
   "metadata": {},
   "outputs": [],
   "source": [
    "interview_data = pd.read_excel('data/full_data.xlsx', sheet_name=1)\n",
    "interview_data['avg_EA_scaled'] = interview_data['avg_EA'] / 2.\n",
    "\n",
    "u = interview_data['user_text']\n",
    "d = interview_data['designer_text']\n",
    "u = u.str.lower().str.replace(':', '')\n",
    "d = d.str.lower().str.replace(':', '')\n",
    "u = u.str.replace('i was', '')\n",
    "d = d.str.replace('i was', '').str.replace('s/he was', '').str.replace('she was', '').str.replace('he was', '')\n",
    "\n",
    "encoder = SentenceTransformer('sentence-transformers/xlm-r-distilroberta-base-paraphrase-v1')\n",
    "encoder.to('cuda')\n",
    "\n",
    "interview_data['user_text'] = u\n",
    "interview_data['designer_text'] = d\n",
    "\n",
    "u_encodings = encoder.encode(u)\n",
    "d_encodings = encoder.encode(d)\n",
    "\n",
    "splits = KFold(n_splits=10, shuffle=True, random_state=123)"
   ]
  },
  {
   "cell_type": "code",
   "execution_count": null,
   "id": "24b04625",
   "metadata": {},
   "outputs": [],
   "source": [
    "X = make_sentence_pairs(u_encodings, d_encodings, how='concatl1')\n",
    "Y = interview_data['avg_EA_scaled'].values\n",
    "results = []\n",
    "losses = []\n",
    "for k, (train, val) in enumerate(folds):\n",
    "    # reinitialise new isntance of network\n",
    "    # prepare data from folds\n",
    "    print(\"Fold: \", k)\n",
    "    X_train = torch.tensor(X[train]).to('cuda')\n",
    "    X_val = torch.tensor(X[val]).to('cuda')\n",
    "    y_train = torch.tensor(Y[train]).to('cuda').float()\n",
    "    y_val = Y[val]\n",
    "\n",
    "\n",
    "    kernel = gp.kernels.RBF(input_dim = X_train.shape[1], variance = torch.tensor(1.0), lengthscale = torch.tensor(1.0))\n",
    "    gpr = gp.models.GPRegression(X_train, y_train, kernel = kernel, noise=  torch.tensor(0.2))\n",
    "    gpr.to('cuda')\n",
    "    # optimizer = torch.optim.Adam(gpr.parameters(), lr=0.005)\n",
    "    # loss_fn = pyro.infer.Trace_ELBO().differentiable_loss\n",
    "\n",
    "    loss = gp.util.train(gpr, num_steps = 2000)\n",
    "    losses.append(loss)    \n",
    "    y_pred = gpr(X_val)\n",
    "    y_pred = y_pred[0].cpu().detach().numpy()\n",
    "    pearson, rmse = evals(y_val, y_pred)\n",
    "    results.append({'pearson':pearson, 'rmse':rmse})"
   ]
  }
 ],
 "metadata": {
  "kernelspec": {
   "display_name": "Python 3 (ipykernel)",
   "language": "python",
   "name": "python3"
  },
  "language_info": {
   "codemirror_mode": {
    "name": "ipython",
    "version": 3
   },
   "file_extension": ".py",
   "mimetype": "text/x-python",
   "name": "python",
   "nbconvert_exporter": "python",
   "pygments_lexer": "ipython3",
   "version": "3.9.13"
  }
 },
 "nbformat": 4,
 "nbformat_minor": 5
}
