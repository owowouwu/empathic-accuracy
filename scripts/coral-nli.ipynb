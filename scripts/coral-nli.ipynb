{
 "cells": [
  {
   "cell_type": "code",
   "execution_count": null,
   "metadata": {
    "collapsed": true
   },
   "outputs": [],
   "source": [
    "import torch\n",
    "import torch.nn as nn\n",
    "import torch.nn.functional as F\n",
    "from torch.nn.modules import Module\n",
    "from torch.utils.data import DataLoader, random_split\n",
    "import os\n",
    "import logging\n",
    "import settings\n",
    "import pandas as pd\n",
    "import numpy as np\n",
    "import matplotlib.pyplot as plt\n",
    "import modules.coralnet as coralnet\n",
    "from sentence_transformers import SentenceTransformer\n",
    "from transformers import AutoTokenizer, AutoModelForSequenceClassification\n",
    "from torch.utils.data import DataLoader, Dataset\n",
    "from coral_pytorch.losses import coral_loss\n",
    "from coral_pytorch.dataset import levels_from_labelbatch\n",
    "from coral_pytorch.dataset import proba_to_label\n",
    "from datasets import load_dataset\n",
    "\n",
    "os.chdir(settings.PROJECT_WORKING_DIRECTORY)\n",
    "BASE_MODEL = 'sentence-transformers/all-distilroberta-v1'\n",
    "\n",
    "def make_sentence_pairs(u,v, how = 'concat'):\n",
    "    if how == 'concat':\n",
    "        return np.concatenate([u,v], axis = 1)\n",
    "    elif how == 'l1':\n",
    "        return np.abs(u - v)\n",
    "    elif how == 'prod':\n",
    "        return u*v\n",
    "    elif how == 'concatl1':\n",
    "        return np.concatenate([u,v, np.abs(u-v)], axis = 1)\n",
    "\n",
    "transformer = SentenceTransformer(BASE_MODEL)"
   ]
  },
  {
   "cell_type": "code",
   "execution_count": null,
   "outputs": [],
   "source": [
    "from scipy import stats\n",
    "interview_data =  pd.read_excel('data/full_data.xlsx', sheet_name = 1)\n",
    "lab = interview_data['avg_EA'].unique()\n",
    "lab.sort()\n",
    "interview_data['discrete_label'] = interview_data['avg_EA'].apply(lambda x: np.where(x == lab)[0].item())\n",
    "interview_data['mode_EA']  = interview_data['mode_EA'].fillna(1.).astype(np.int64)"
   ],
   "metadata": {
    "collapsed": false
   }
  },
  {
   "cell_type": "code",
   "execution_count": null,
   "outputs": [],
   "source": [
    "interview_data.groupby('designer').agg(\n",
    "    {'avg_EA':'mean', 'time':'count'}\n",
    ")"
   ],
   "metadata": {
    "collapsed": false
   }
  },
  {
   "cell_type": "code",
   "execution_count": null,
   "outputs": [],
   "source": [
    "model = torch.load('models/nli-coral.pt', map_location=torch.device('cpu'))"
   ],
   "metadata": {
    "collapsed": false
   }
  },
  {
   "cell_type": "code",
   "execution_count": null,
   "outputs": [],
   "source": [
    "user_embeddings = transformer.encode(interview_data['user_text'])\n",
    "designer_embeddings = transformer.encode(interview_data['designer_text'])"
   ],
   "metadata": {
    "collapsed": false
   }
  },
  {
   "cell_type": "code",
   "execution_count": null,
   "outputs": [],
   "source": [
    "u = interview_data['user_text']\n",
    "d = interview_data['designer_text']\n",
    "u = u.str.lower().str.replace(':','')\n",
    "d = d.str.lower().str.replace(':','')\n",
    "u = u.str.replace('i was', '')\n",
    "d = d.str.replace('i was', '').str.replace('s/he was','').str.replace('she was', '').str.replace('he was','')\n",
    "s1 = transformer.encode(u.values)\n",
    "s2 = transformer.encode(d.values)"
   ],
   "metadata": {
    "collapsed": false
   }
  },
  {
   "cell_type": "code",
   "execution_count": null,
   "outputs": [],
   "source": [
    "sentence_pairs = make_sentence_pairs(s1, s2, how='concatl1')\n",
    "sentence_pairs = torch.tensor(sentence_pairs)"
   ],
   "metadata": {
    "collapsed": false
   }
  },
  {
   "cell_type": "code",
   "execution_count": null,
   "outputs": [],
   "source": [
    "logit, probas = model(sentence_pairs)\n",
    "predicted_labels = proba_to_label(probas).float().numpy()\n",
    "predicted_labels = predicted_labels.astype(np.int64)\n",
    "true_labels = interview_data['mode_EA']"
   ],
   "metadata": {
    "collapsed": false
   }
  },
  {
   "cell_type": "code",
   "execution_count": null,
   "outputs": [],
   "source": [
    "from sklearn.metrics import classification_report\n",
    "print(classification_report(true_labels,predicted_labels))"
   ],
   "metadata": {
    "collapsed": false
   }
  },
  {
   "cell_type": "code",
   "execution_count": null,
   "outputs": [],
   "source": [
    "true_labels.value_counts()"
   ],
   "metadata": {
    "collapsed": false
   }
  },
  {
   "cell_type": "code",
   "execution_count": null,
   "outputs": [],
   "source": [],
   "metadata": {
    "collapsed": false
   }
  }
 ],
 "metadata": {
  "kernelspec": {
   "display_name": "Python 3",
   "language": "python",
   "name": "python3"
  },
  "language_info": {
   "codemirror_mode": {
    "name": "ipython",
    "version": 2
   },
   "file_extension": ".py",
   "mimetype": "text/x-python",
   "name": "python",
   "nbconvert_exporter": "python",
   "pygments_lexer": "ipython2",
   "version": "2.7.6"
  }
 },
 "nbformat": 4,
 "nbformat_minor": 0
}
